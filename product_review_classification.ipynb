{
 "cells": [
  {
   "cell_type": "markdown",
   "metadata": {},
   "source": [
    "# Product Review Classification\n",
    "\n",
    "## Business Understanding\n",
    "Our company wants a tool that will automatically classify product reviews as _positive_ or _negative_ reviews, based on the features of the review.  This will help our Product team to perform more sophisticated analyses in the future to help ensure customer satisfaction.\n",
    "\n",
    "## Data Understanding\n",
    "We have a labeled collection of 20,000 product reviews, with an equal split of positive and negative reviews. The dataset contains the following features:\n",
    "\n",
    " - `ProductId` Unique identifier for the product\n",
    " - `UserId` Unqiue identifier for the user\n",
    " - `ProfileName` Profile name of the user\n",
    " - `HelpfulnessNumerator` Number of users who found the review helpful\n",
    " - `HelpfulnessDenominator` Number of users who indicated whether they found the review helpful or not\n",
    " - `Time` Timestamp for the review\n",
    " - `Summary` Brief summary of the review\n",
    " - `Text` Text of the review\n",
    " - `PositiveReview` 1 if this was labeled as a positive review, 0 if it was labeled as a negative review"
   ]
  },
  {
   "cell_type": "code",
   "execution_count": 58,
   "metadata": {},
   "outputs": [],
   "source": [
    "import pandas as pd\n",
    "import numpy as np\n",
    "from sklearn.model_selection import train_test_split\n",
    "from sklearn.feature_extraction.text import TfidfVectorizer\n",
    "from sklearn.preprocessing import OneHotEncoder, FunctionTransformer\n",
    "from sklearn.compose import ColumnTransformer\n",
    "from sklearn.pipeline import Pipeline\n",
    "from sklearn.ensemble import RandomForestClassifier\n",
    "from sklearn.metrics import confusion_matrix\n",
    "\n",
    "from sklearn.preprocessing import StandardScaler\n",
    "from tensorflow.keras import Sequential, regularizers\n",
    "from tensorflow.keras.layers import Dense, Dropout\n",
    "import matplotlib.pyplot as plt"
   ]
  },
  {
   "cell_type": "code",
   "execution_count": 2,
   "metadata": {},
   "outputs": [
    {
     "data": {
      "text/html": [
       "<div>\n",
       "<style scoped>\n",
       "    .dataframe tbody tr th:only-of-type {\n",
       "        vertical-align: middle;\n",
       "    }\n",
       "\n",
       "    .dataframe tbody tr th {\n",
       "        vertical-align: top;\n",
       "    }\n",
       "\n",
       "    .dataframe thead th {\n",
       "        text-align: right;\n",
       "    }\n",
       "</style>\n",
       "<table border=\"1\" class=\"dataframe\">\n",
       "  <thead>\n",
       "    <tr style=\"text-align: right;\">\n",
       "      <th></th>\n",
       "      <th>ProductId</th>\n",
       "      <th>UserId</th>\n",
       "      <th>ProfileName</th>\n",
       "      <th>HelpfulnessNumerator</th>\n",
       "      <th>HelpfulnessDenominator</th>\n",
       "      <th>Time</th>\n",
       "      <th>Summary</th>\n",
       "      <th>Text</th>\n",
       "      <th>PositiveReview</th>\n",
       "    </tr>\n",
       "  </thead>\n",
       "  <tbody>\n",
       "    <tr>\n",
       "      <th>0</th>\n",
       "      <td>B002QWHJOU</td>\n",
       "      <td>A37565LZHTG1VH</td>\n",
       "      <td>C. Maltese</td>\n",
       "      <td>1</td>\n",
       "      <td>1</td>\n",
       "      <td>1305331200</td>\n",
       "      <td>Awesome!</td>\n",
       "      <td>This is a great product. My 2 year old Golden ...</td>\n",
       "      <td>1</td>\n",
       "    </tr>\n",
       "    <tr>\n",
       "      <th>1</th>\n",
       "      <td>B000ESLJ6C</td>\n",
       "      <td>AMUAWXDJHE4D2</td>\n",
       "      <td>angieseashore</td>\n",
       "      <td>1</td>\n",
       "      <td>1</td>\n",
       "      <td>1320710400</td>\n",
       "      <td>Was there a recipe change?</td>\n",
       "      <td>I have been drinking Pero ever since I was a l...</td>\n",
       "      <td>0</td>\n",
       "    </tr>\n",
       "    <tr>\n",
       "      <th>2</th>\n",
       "      <td>B004IJJQK4</td>\n",
       "      <td>AMHHNAFJ9L958</td>\n",
       "      <td>A M</td>\n",
       "      <td>0</td>\n",
       "      <td>1</td>\n",
       "      <td>1321747200</td>\n",
       "      <td>These taste so bland.</td>\n",
       "      <td>Look, each pack contains two servings of 120 c...</td>\n",
       "      <td>0</td>\n",
       "    </tr>\n",
       "  </tbody>\n",
       "</table>\n",
       "</div>"
      ],
      "text/plain": [
       "    ProductId          UserId    ProfileName  HelpfulnessNumerator  \\\n",
       "0  B002QWHJOU  A37565LZHTG1VH     C. Maltese                     1   \n",
       "1  B000ESLJ6C   AMUAWXDJHE4D2  angieseashore                     1   \n",
       "2  B004IJJQK4   AMHHNAFJ9L958            A M                     0   \n",
       "\n",
       "   HelpfulnessDenominator        Time                     Summary  \\\n",
       "0                       1  1305331200                    Awesome!   \n",
       "1                       1  1320710400  Was there a recipe change?   \n",
       "2                       1  1321747200       These taste so bland.   \n",
       "\n",
       "                                                Text  PositiveReview  \n",
       "0  This is a great product. My 2 year old Golden ...               1  \n",
       "1  I have been drinking Pero ever since I was a l...               0  \n",
       "2  Look, each pack contains two servings of 120 c...               0  "
      ]
     },
     "execution_count": 2,
     "metadata": {},
     "output_type": "execute_result"
    }
   ],
   "source": [
    "df = pd.read_csv(\"reviews.csv\")\n",
    "df.head(3)"
   ]
  },
  {
   "cell_type": "markdown",
   "metadata": {},
   "source": [
    "The data has already been cleaned, so there are no missing values"
   ]
  },
  {
   "cell_type": "code",
   "execution_count": 3,
   "metadata": {},
   "outputs": [
    {
     "data": {
      "text/plain": [
       "ProductId                 0\n",
       "UserId                    0\n",
       "ProfileName               0\n",
       "HelpfulnessNumerator      0\n",
       "HelpfulnessDenominator    0\n",
       "Time                      0\n",
       "Summary                   0\n",
       "Text                      0\n",
       "PositiveReview            0\n",
       "dtype: int64"
      ]
     },
     "execution_count": 3,
     "metadata": {},
     "output_type": "execute_result"
    }
   ],
   "source": [
    "df.isna().sum()"
   ]
  },
  {
   "cell_type": "markdown",
   "metadata": {},
   "source": [
    "`PositiveReview` is the target, and all other columns are features"
   ]
  },
  {
   "cell_type": "code",
   "execution_count": 4,
   "metadata": {},
   "outputs": [],
   "source": [
    "X = df.drop(\"PositiveReview\", axis=1)\n",
    "y = df[\"PositiveReview\"]"
   ]
  },
  {
   "cell_type": "markdown",
   "metadata": {},
   "source": [
    "## Data Preparation\n",
    "\n",
    "First, split into train and test sets"
   ]
  },
  {
   "cell_type": "code",
   "execution_count": 5,
   "metadata": {},
   "outputs": [
    {
     "data": {
      "text/plain": [
       "(15000, 8)"
      ]
     },
     "execution_count": 5,
     "metadata": {},
     "output_type": "execute_result"
    }
   ],
   "source": [
    "X_train, X_test, y_train, y_test = train_test_split(X, y, random_state=42)\n",
    "X_train.shape"
   ]
  },
  {
   "cell_type": "markdown",
   "metadata": {},
   "source": [
    "Second, prepare for modeling. The following `Pipeline` prepares all data for modeling.  It one-hot encodes the `ProductId`, applies a tf-idf vectorizer to the `Summary` and `Text`, keeps the numeric columns as-is, and drops all other columns.\n",
    "\n",
    "The following code may take up to 1 minute to run."
   ]
  },
  {
   "cell_type": "code",
   "execution_count": 6,
   "metadata": {},
   "outputs": [
    {
     "data": {
      "text/plain": [
       "(15000, 11275)"
      ]
     },
     "execution_count": 6,
     "metadata": {},
     "output_type": "execute_result"
    }
   ],
   "source": [
    "def drop_irrelevant_columns(X):\n",
    "    return X.drop([\"UserId\", \"ProfileName\"], axis=1)\n",
    "\n",
    "pipeline = Pipeline(steps=[\n",
    "    (\"drop_columns\", FunctionTransformer(drop_irrelevant_columns)),\n",
    "    (\"transform_text_columns\", ColumnTransformer(transformers=[\n",
    "        (\"ohe\", OneHotEncoder(categories=\"auto\", handle_unknown=\"ignore\", sparse=False), [\"ProductId\"]),\n",
    "        (\"summary-tf-idf\", TfidfVectorizer(max_features=1000), \"Summary\"),\n",
    "        (\"text-tf-idf\", TfidfVectorizer(max_features=1000), \"Text\")\n",
    "    ], remainder=\"passthrough\"))\n",
    "])\n",
    "\n",
    "X_train_transformed = pipeline.fit_transform(X_train)\n",
    "X_test_transformed = pipeline.transform(X_test)\n",
    "\n",
    "X_train_transformed.shape"
   ]
  },
  {
   "cell_type": "markdown",
   "metadata": {},
   "source": [
    "## Modeling\n",
    "\n",
    "Fit a `RandomForestClassifier` with the best hyperparameters.  The following code may take up to 1 minute to run."
   ]
  },
  {
   "cell_type": "code",
   "execution_count": 7,
   "metadata": {},
   "outputs": [
    {
     "data": {
      "text/plain": [
       "RandomForestClassifier(max_depth=30, min_samples_split=15, random_state=42)"
      ]
     },
     "execution_count": 7,
     "metadata": {},
     "output_type": "execute_result"
    }
   ],
   "source": [
    "rfc = RandomForestClassifier(\n",
    "    random_state=42,\n",
    "    n_estimators=100,\n",
    "    max_depth=30,\n",
    "    min_samples_split=15,\n",
    "    min_samples_leaf=1\n",
    ")\n",
    "rfc.fit(X_train_transformed, y_train)"
   ]
  },
  {
   "cell_type": "markdown",
   "metadata": {},
   "source": [
    "## Model Evaluation\n",
    "\n",
    "We are using _accuracy_ as our metric, which is the default metric in Scikit-Learn, so it is possible to just use the built-in `.score` method"
   ]
  },
  {
   "cell_type": "code",
   "execution_count": 8,
   "metadata": {},
   "outputs": [
    {
     "name": "stdout",
     "output_type": "stream",
     "text": [
      "Train accuracy: 0.9826666666666667\n",
      "Test accuracy: 0.913\n"
     ]
    }
   ],
   "source": [
    "print(\"Train accuracy:\", rfc.score(X_train_transformed, y_train))\n",
    "print(\"Test accuracy:\", rfc.score(X_test_transformed, y_test))"
   ]
  },
  {
   "cell_type": "code",
   "execution_count": 9,
   "metadata": {},
   "outputs": [
    {
     "name": "stdout",
     "output_type": "stream",
     "text": [
      "Train confusion matrix:\n",
      "[[7312  177]\n",
      " [  83 7428]]\n",
      "Test confusion matrix:\n",
      "[[2293  218]\n",
      " [ 217 2272]]\n"
     ]
    }
   ],
   "source": [
    "print(\"Train confusion matrix:\")\n",
    "print(confusion_matrix(y_train, rfc.predict(X_train_transformed)))\n",
    "print(\"Test confusion matrix:\")\n",
    "print(confusion_matrix(y_test, rfc.predict(X_test_transformed)))"
   ]
  },
  {
   "cell_type": "markdown",
   "metadata": {},
   "source": [
    "## Business Interpretation\n",
    "\n",
    "The tuned Random Forest Classifier model appears to be somewhat overfit on the training data, but nevertheless achieves 91% accuracy on the test data.  Of the 9% of mislabeled comments, about half are false positives and half are false negatives.\n",
    "\n",
    "Because this is a balanced dataset, 91% accuracy is a substantial improvement over a 50% baseline.  This model is ready for production use for decision support."
   ]
  },
  {
   "cell_type": "code",
   "execution_count": 13,
   "metadata": {},
   "outputs": [],
   "source": [
    "X_train_transformed = pipeline.fit_transform(X_train)\n",
    "X_test_transformed = pipeline.transform(X_test)\n",
    "\n",
    "#Instantiate a StandardScaler object\n",
    "ss = StandardScaler()\n",
    "#Generate a new X_train_transformed_scaled by calling .fit_transform on the scaler object,\n",
    "#after you have called .fit_transform on the pipeline\n",
    "X_train_transformed_scaled = ss.fit_transform(X_train_transformed)\n",
    "#Generate a new X_test_transformed_scaled by calling .transform on the scaler object,\n",
    "#after you have called .transform on the pipeline\n",
    "X_test_transformed_scaled = ss.transform(X_test_transformed)"
   ]
  },
  {
   "cell_type": "code",
   "execution_count": 32,
   "metadata": {},
   "outputs": [
    {
     "name": "stdout",
     "output_type": "stream",
     "text": [
      "Epoch 1/5\n",
      "300/300 [==============================] - 3s 9ms/step - loss: 0.3040 - accuracy: 0.0000e+00\n",
      "Epoch 2/5\n",
      "300/300 [==============================] - 3s 11ms/step - loss: 0.0325 - accuracy: 0.0073\n",
      "Epoch 3/5\n",
      "300/300 [==============================] - 2s 8ms/step - loss: 0.0063 - accuracy: 0.0572\n",
      "Epoch 4/5\n",
      "300/300 [==============================] - 2s 8ms/step - loss: 0.0032 - accuracy: 0.1386\n",
      "Epoch 5/5\n",
      "300/300 [==============================] - 3s 11ms/step - loss: 5.5151e-04 - accuracy: 0.1761\n"
     ]
    },
    {
     "data": {
      "text/plain": [
       "<tensorflow.python.keras.callbacks.History at 0x152b45670>"
      ]
     },
     "execution_count": 32,
     "metadata": {},
     "output_type": "execute_result"
    }
   ],
   "source": [
    "#Instantiate a Sequential model\n",
    "model = Sequential()\n",
    "#Add an input Dense layer. You'll need to specify a input_shape = (11275,) \n",
    "#because this is the number of features of the transformed dataset.\n",
    "model.add(Dense(units=64, activation=\"relu\", input_shape=(11275,)))\n",
    "#Add 2 Dense hidden layers. They can have any number of units, but keep in mind that more units will require more processing power. \n",
    "#We recommend an initial units of 64 for processing power reasons.\n",
    "model.add(Dense(units=64, activation=\"relu\"))\n",
    "model.add(Dense(units=64, activation=\"relu\"))\n",
    "#Add a final Dense output layer. This layer must have exactly 1 unit because we are doing a binary prediction task.\n",
    "model.add(Dense(1, activation=\"sigmoid\"))\n",
    "#Compile the Sequential model\n",
    "model.compile(optimizer=\"adam\", loss= \"binary_crossentropy\", metrics=[\"Accuracy\"])\n",
    "#Fit the Sequential model on the preprocessed training data (X_train_transformed_scaled) \n",
    "#with a bbatch_size of 50 and epochs of 5 for processing power reasons.\n",
    "model.fit(X_train_transformed_scaled, y_train, batch_size=50, epochs=5)"
   ]
  },
  {
   "cell_type": "markdown",
   "metadata": {},
   "source": [
    "3) Model Tuning + Feature Engineering\n",
    "If you are running out of time, skip this step.\n",
    "\n",
    "Tune the neural network model to improve performance. This could include steps such as increasing the units, changing the activation functions, or adding regularization.\n",
    "\n",
    "We recommend using using a validation_split of 0.1 to understand model performance without utilizing the test holdout set.\n",
    "\n",
    "You can also return to the preprocessing phase, and add additional features to the model."
   ]
  },
  {
   "cell_type": "code",
   "execution_count": 34,
   "metadata": {},
   "outputs": [
    {
     "name": "stdout",
     "output_type": "stream",
     "text": [
      "Epoch 1/20\n",
      "300/300 [==============================] - 3s 10ms/step - loss: 0.3023 - accuracy: 0.0000e+00\n",
      "Epoch 2/20\n",
      "300/300 [==============================] - 3s 9ms/step - loss: 0.0318 - accuracy: 0.0110\n",
      "Epoch 3/20\n",
      "300/300 [==============================] - 3s 10ms/step - loss: 0.0074 - accuracy: 0.0959\n",
      "Epoch 4/20\n",
      "300/300 [==============================] - 3s 8ms/step - loss: 0.0016 - accuracy: 0.2241\n",
      "Epoch 5/20\n",
      "300/300 [==============================] - 2s 8ms/step - loss: 2.0990e-04 - accuracy: 0.2911\n",
      "Epoch 6/20\n",
      "300/300 [==============================] - 2s 8ms/step - loss: 7.3602e-05 - accuracy: 0.3179\n",
      "Epoch 7/20\n",
      "300/300 [==============================] - 3s 9ms/step - loss: 4.2280e-04 - accuracy: 0.3275\n",
      "Epoch 8/20\n",
      "300/300 [==============================] - 2s 8ms/step - loss: 4.5728e-04 - accuracy: 0.3772\n",
      "Epoch 9/20\n",
      "300/300 [==============================] - 3s 9ms/step - loss: 6.1975e-04 - accuracy: 0.3727\n",
      "Epoch 10/20\n",
      "300/300 [==============================] - 4s 15ms/step - loss: 0.0085 - accuracy: 0.3265\n",
      "Epoch 11/20\n",
      "300/300 [==============================] - 5s 15ms/step - loss: 0.0173 - accuracy: 0.1575\n",
      "Epoch 12/20\n",
      "300/300 [==============================] - 4s 12ms/step - loss: 0.0068 - accuracy: 0.1971\n",
      "Epoch 13/20\n",
      "300/300 [==============================] - 4s 12ms/step - loss: 8.5334e-04 - accuracy: 0.2815\n",
      "Epoch 14/20\n",
      "300/300 [==============================] - 4s 12ms/step - loss: 0.0013 - accuracy: 0.3995\n",
      "Epoch 15/20\n",
      "300/300 [==============================] - 3s 10ms/step - loss: 4.1811e-05 - accuracy: 0.4257\n",
      "Epoch 16/20\n",
      "300/300 [==============================] - 4s 13ms/step - loss: 7.7072e-06 - accuracy: 0.4299\n",
      "Epoch 17/20\n",
      "300/300 [==============================] - 3s 11ms/step - loss: 4.9089e-06 - accuracy: 0.4338\n",
      "Epoch 18/20\n",
      "300/300 [==============================] - 3s 10ms/step - loss: 3.5786e-06 - accuracy: 0.4371\n",
      "Epoch 19/20\n",
      "300/300 [==============================] - 3s 11ms/step - loss: 2.7413e-06 - accuracy: 0.4406\n",
      "Epoch 20/20\n",
      "300/300 [==============================] - 3s 11ms/step - loss: 2.1593e-06 - accuracy: 0.4448\n"
     ]
    },
    {
     "data": {
      "text/plain": [
       "<tensorflow.python.keras.callbacks.History at 0x15383eaf0>"
      ]
     },
     "execution_count": 34,
     "metadata": {},
     "output_type": "execute_result"
    }
   ],
   "source": [
    "#Instantiate a Sequential model\n",
    "model2 = Sequential()\n",
    "#Add an input Dense layer. You'll need to specify a input_shape = (11275,) \n",
    "model2.add(Dense(units=64, activation=\"relu\", input_shape=(11275,)))\n",
    "#Add 2 Dense hidden layers. They can have any number of units, but keep in mind that more units will require more processing power. \n",
    "#We recommend an initial units of 64 for processing power reasons.\n",
    "model2.add(Dense(units=128, activation=\"relu\"))\n",
    "model2.add(Dense(units=128, activation=\"relu\"))\n",
    "#Add a final Dense output layer. This layer must have exactly 1 unit because we are doing a binary prediction task.\n",
    "model2.add(Dense(1, activation=\"sigmoid\"))\n",
    "#Compile the Sequential model\n",
    "model2.compile(optimizer=\"adam\", loss= \"binary_crossentropy\", metrics=[\"Accuracy\"])\n",
    "#Fit the Sequential model on the preprocessed training data (X_train_transformed_scaled) \n",
    "#with a bbatch_size of 50 and epochs of 5 for processing power reasons.\n",
    "model2.fit(X_train_transformed_scaled, y_train, batch_size=50, epochs=20)"
   ]
  },
  {
   "cell_type": "code",
   "execution_count": 41,
   "metadata": {},
   "outputs": [
    {
     "data": {
      "text/plain": [
       "256"
      ]
     },
     "execution_count": 41,
     "metadata": {},
     "output_type": "execute_result"
    }
   ],
   "source": [
    "64*4"
   ]
  },
  {
   "cell_type": "code",
   "execution_count": 44,
   "metadata": {},
   "outputs": [
    {
     "name": "stdout",
     "output_type": "stream",
     "text": [
      "Epoch 1/25\n",
      "300/300 [==============================] - 4s 13ms/step - loss: 0.3849 - accuracy: 0.0000e+00\n",
      "Epoch 2/25\n",
      "300/300 [==============================] - 4s 12ms/step - loss: 0.1028 - accuracy: 0.0206\n",
      "Epoch 3/25\n",
      "300/300 [==============================] - 3s 11ms/step - loss: 0.0658 - accuracy: 0.1128\n",
      "Epoch 4/25\n",
      "300/300 [==============================] - 3s 11ms/step - loss: 0.0469 - accuracy: 0.1573\n",
      "Epoch 5/25\n",
      "300/300 [==============================] - 3s 11ms/step - loss: 0.0328 - accuracy: 0.2238\n",
      "Epoch 6/25\n",
      "300/300 [==============================] - 3s 9ms/step - loss: 0.0227 - accuracy: 0.2382\n",
      "Epoch 7/25\n",
      "300/300 [==============================] - 2s 8ms/step - loss: 0.0158 - accuracy: 0.2199\n",
      "Epoch 8/25\n",
      "300/300 [==============================] - 2s 8ms/step - loss: 0.0110 - accuracy: 0.1895\n",
      "Epoch 9/25\n",
      "300/300 [==============================] - 2s 8ms/step - loss: 0.0076 - accuracy: 0.1586\n",
      "Epoch 10/25\n",
      "300/300 [==============================] - 3s 9ms/step - loss: 0.0053 - accuracy: 0.1275\n",
      "Epoch 11/25\n",
      "300/300 [==============================] - 2s 8ms/step - loss: 0.0048 - accuracy: 0.1147\n",
      "Epoch 12/25\n",
      "300/300 [==============================] - 4s 12ms/step - loss: 0.0236 - accuracy: 0.1163\n",
      "Epoch 13/25\n",
      "300/300 [==============================] - 3s 11ms/step - loss: 0.0232 - accuracy: 0.1427\n",
      "Epoch 14/25\n",
      "300/300 [==============================] - 3s 11ms/step - loss: 0.0094 - accuracy: 0.2312\n",
      "Epoch 15/25\n",
      "300/300 [==============================] - 3s 10ms/step - loss: 0.0048 - accuracy: 0.3246\n",
      "Epoch 16/25\n",
      "300/300 [==============================] - 2s 8ms/step - loss: 0.0049 - accuracy: 0.2162\n",
      "Epoch 17/25\n",
      "300/300 [==============================] - 3s 9ms/step - loss: 0.0031 - accuracy: 0.2636\n",
      "Epoch 18/25\n",
      "300/300 [==============================] - 4s 13ms/step - loss: 0.0023 - accuracy: 0.2588\n",
      "Epoch 19/25\n",
      "300/300 [==============================] - 4s 14ms/step - loss: 0.0019 - accuracy: 0.2318\n",
      "Epoch 20/25\n",
      "300/300 [==============================] - 4s 13ms/step - loss: 0.0015 - accuracy: 0.2122\n",
      "Epoch 21/25\n",
      "300/300 [==============================] - 3s 9ms/step - loss: 0.0013 - accuracy: 0.1904\n",
      "Epoch 22/25\n",
      "300/300 [==============================] - 3s 11ms/step - loss: 0.0011 - accuracy: 0.1695\n",
      "Epoch 23/25\n",
      "300/300 [==============================] - 3s 10ms/step - loss: 0.0035 - accuracy: 0.1565\n",
      "Epoch 24/25\n",
      "300/300 [==============================] - 4s 13ms/step - loss: 0.0036 - accuracy: 0.1955\n",
      "Epoch 25/25\n",
      "300/300 [==============================] - 3s 10ms/step - loss: 0.0051 - accuracy: 0.1947\n"
     ]
    },
    {
     "data": {
      "text/plain": [
       "<tensorflow.python.keras.callbacks.History at 0x154854e80>"
      ]
     },
     "execution_count": 44,
     "metadata": {},
     "output_type": "execute_result"
    }
   ],
   "source": [
    "#Instantiate a Sequential model\n",
    "model3 = Sequential()\n",
    "#Add an input Dense layer. You'll need to specify a input_shape = (11275,) \n",
    "#because this is the number of features of the transformed dataset.\n",
    "model3.add(Dense(units=64, activation=\"relu\", input_shape=(11275,)))\n",
    "#Add Dense hidden layers.\n",
    "model3.add(Dense(units=128, activation=\"relu\", kernel_regularizer=regularizers.l1(0.0001)))\n",
    "model3.add(Dense(units=128, activation=\"relu\", kernel_regularizer=regularizers.l2(0.0001)))\n",
    "model3.add(Dense(units=64, activation=\"relu\"))\n",
    "#Add a final Dense output layer. This layer must have exactly 1 unit because we are doing a binary prediction task.\n",
    "model3.add(Dense(1, activation=\"sigmoid\"))\n",
    "#Compile the Sequential model\n",
    "model3.compile(optimizer=\"adam\", loss= \"binary_crossentropy\", metrics=[\"Accuracy\"])\n",
    "#Fit the Sequential model on the preprocessed training data (X_train_transformed_scaled) \n",
    "model.fit(X_train_transformed_scaled, y_train, batch_size=50, epochs=25)"
   ]
  },
  {
   "cell_type": "code",
   "execution_count": 46,
   "metadata": {},
   "outputs": [
    {
     "name": "stdout",
     "output_type": "stream",
     "text": [
      "Epoch 1/25\n",
      "300/300 [==============================] - 5s 17ms/step - loss: 0.2993 - accuracy: 0.0000e+00\n",
      "Epoch 2/25\n",
      "300/300 [==============================] - 4s 13ms/step - loss: 0.0336 - accuracy: 0.0082\n",
      "Epoch 3/25\n",
      "300/300 [==============================] - 3s 11ms/step - loss: 0.0074 - accuracy: 0.0838\n",
      "Epoch 4/25\n",
      "300/300 [==============================] - 3s 10ms/step - loss: 0.0030 - accuracy: 0.1888\n",
      "Epoch 5/25\n",
      "300/300 [==============================] - 3s 11ms/step - loss: 0.0011 - accuracy: 0.2401\n",
      "Epoch 6/25\n",
      "300/300 [==============================] - 3s 11ms/step - loss: 5.2429e-04 - accuracy: 0.3025\n",
      "Epoch 7/25\n",
      "300/300 [==============================] - 4s 13ms/step - loss: 0.0013 - accuracy: 0.2797\n",
      "Epoch 8/25\n",
      "300/300 [==============================] - 4s 13ms/step - loss: 8.3579e-05 - accuracy: 0.3473\n",
      "Epoch 9/25\n",
      "300/300 [==============================] - 4s 13ms/step - loss: 4.9873e-05 - accuracy: 0.3853\n",
      "Epoch 10/25\n",
      "300/300 [==============================] - 3s 11ms/step - loss: 3.8031e-05 - accuracy: 0.4021\n",
      "Epoch 11/25\n",
      "300/300 [==============================] - 3s 11ms/step - loss: 8.1947e-06 - accuracy: 0.4140\n",
      "Epoch 12/25\n",
      "300/300 [==============================] - 3s 12ms/step - loss: 3.9873e-06 - accuracy: 0.4256\n",
      "Epoch 13/25\n",
      "300/300 [==============================] - 4s 12ms/step - loss: 2.7116e-06 - accuracy: 0.4356\n",
      "Epoch 14/25\n",
      "300/300 [==============================] - 3s 11ms/step - loss: 2.1233e-06 - accuracy: 0.4429\n",
      "Epoch 15/25\n",
      "300/300 [==============================] - 5s 16ms/step - loss: 1.6002e-06 - accuracy: 0.4491\n",
      "Epoch 16/25\n",
      "300/300 [==============================] - 5s 16ms/step - loss: 1.2200e-06 - accuracy: 0.4543\n",
      "Epoch 17/25\n",
      "300/300 [==============================] - 4s 14ms/step - loss: 1.0557e-06 - accuracy: 0.4593\n",
      "Epoch 18/25\n",
      "300/300 [==============================] - 3s 11ms/step - loss: 7.5361e-07 - accuracy: 0.4621\n",
      "Epoch 19/25\n",
      "300/300 [==============================] - 3s 11ms/step - loss: 5.9983e-07 - accuracy: 0.4653\n",
      "Epoch 20/25\n",
      "300/300 [==============================] - 3s 10ms/step - loss: 4.8951e-07 - accuracy: 0.4679\n",
      "Epoch 21/25\n",
      "300/300 [==============================] - 3s 11ms/step - loss: 3.9983e-07 - accuracy: 0.4707\n",
      "Epoch 22/25\n",
      "300/300 [==============================] - 3s 10ms/step - loss: 3.1101e-07 - accuracy: 0.4736\n",
      "Epoch 23/25\n",
      "300/300 [==============================] - 3s 10ms/step - loss: 2.8063e-07 - accuracy: 0.4761\n",
      "Epoch 24/25\n",
      "300/300 [==============================] - 2s 8ms/step - loss: 2.1437e-07 - accuracy: 0.4780\n",
      "Epoch 25/25\n",
      "300/300 [==============================] - 4s 14ms/step - loss: 1.7882e-07 - accuracy: 0.4803\n"
     ]
    },
    {
     "data": {
      "text/plain": [
       "<tensorflow.python.keras.callbacks.History at 0x154996700>"
      ]
     },
     "execution_count": 46,
     "metadata": {},
     "output_type": "execute_result"
    }
   ],
   "source": [
    "#Instantiate a Sequential model\n",
    "model4 = Sequential()\n",
    "#Add an input Dense layer. You'll need to specify a input_shape = (11275,) \n",
    "model4.add(Dense(units=64, activation=\"relu\", input_shape=(11275,)))\n",
    "#Add Dense hidden layers.\n",
    "model4.add(Dense(units=128, activation=\"relu\"))\n",
    "model4.add(Dense(units=256, activation=\"relu\"))\n",
    "model4.add(Dropout(0.025))\n",
    "model4.add(Dense(units=16, activation=\"relu\"))\n",
    "#Add a final Dense output layer. This layer must have exactly 1 unit because we are doing a binary prediction task.\n",
    "model4.add(Dense(1, activation=\"sigmoid\"))\n",
    "#Compile the Sequential model\n",
    "model4.compile(optimizer=\"adam\", loss= \"binary_crossentropy\", metrics=[\"Accuracy\"])\n",
    "#Fit the Sequential model on the preprocessed training data (X_train_transformed_scaled) \n",
    "model4.fit(X_train_transformed_scaled, y_train, batch_size=50, epochs=25)"
   ]
  },
  {
   "cell_type": "markdown",
   "metadata": {},
   "source": [
    "4) Model Evaluation\n",
    "\n",
    "Choose a final Sequential model, add layers, and compile. Fit the model on the preprocessed training data (X_train_transformed_scaled, y_train) and evaluate on the preprocessed testing data (X_test_transformed_scaled, y_test) using accuracy_score."
   ]
  },
  {
   "cell_type": "code",
   "execution_count": 48,
   "metadata": {},
   "outputs": [
    {
     "name": "stdout",
     "output_type": "stream",
     "text": [
      "Epoch 1/25\n",
      "300/300 [==============================] - 6s 19ms/step - loss: 0.3017 - accuracy: 0.0000e+00\n",
      "Epoch 2/25\n",
      "300/300 [==============================] - 6s 19ms/step - loss: 0.0347 - accuracy: 0.0251\n",
      "Epoch 3/25\n",
      "300/300 [==============================] - 3s 10ms/step - loss: 0.0077 - accuracy: 0.1159\n",
      "Epoch 4/25\n",
      "300/300 [==============================] - 3s 12ms/step - loss: 0.0037 - accuracy: 0.2119\n",
      "Epoch 5/25\n",
      "300/300 [==============================] - 3s 11ms/step - loss: 0.0011 - accuracy: 0.2677\n",
      "Epoch 6/25\n",
      "300/300 [==============================] - 4s 13ms/step - loss: 6.1089e-04 - accuracy: 0.3644\n",
      "Epoch 7/25\n",
      "300/300 [==============================] - 4s 14ms/step - loss: 0.0010 - accuracy: 0.3363\n",
      "Epoch 8/25\n",
      "300/300 [==============================] - 3s 9ms/step - loss: 4.4987e-05 - accuracy: 0.2843\n",
      "Epoch 9/25\n",
      "300/300 [==============================] - 4s 13ms/step - loss: 1.6354e-05 - accuracy: 0.3361\n",
      "Epoch 10/25\n",
      "300/300 [==============================] - 4s 13ms/step - loss: 9.9860e-06 - accuracy: 0.3597\n",
      "Epoch 11/25\n",
      "300/300 [==============================] - 4s 12ms/step - loss: 6.4952e-06 - accuracy: 0.3807\n",
      "Epoch 12/25\n",
      "300/300 [==============================] - 4s 13ms/step - loss: 4.7941e-06 - accuracy: 0.3916\n",
      "Epoch 13/25\n",
      "300/300 [==============================] - 4s 12ms/step - loss: 3.4291e-06 - accuracy: 0.4045\n",
      "Epoch 14/25\n",
      "300/300 [==============================] - 4s 13ms/step - loss: 2.6457e-06 - accuracy: 0.4132\n",
      "Epoch 15/25\n",
      "300/300 [==============================] - 3s 11ms/step - loss: 2.1302e-06 - accuracy: 0.4194\n",
      "Epoch 16/25\n",
      "300/300 [==============================] - 4s 13ms/step - loss: 1.7070e-06 - accuracy: 0.4271\n",
      "Epoch 17/25\n",
      "300/300 [==============================] - 3s 12ms/step - loss: 1.3107e-06 - accuracy: 0.4355\n",
      "Epoch 18/25\n",
      "300/300 [==============================] - 2s 8ms/step - loss: 1.0474e-06 - accuracy: 0.4393\n",
      "Epoch 19/25\n",
      "300/300 [==============================] - 3s 9ms/step - loss: 7.9700e-07 - accuracy: 0.4428\n",
      "Epoch 20/25\n",
      "300/300 [==============================] - 3s 9ms/step - loss: 6.5824e-07 - accuracy: 0.4471\n",
      "Epoch 21/25\n",
      "300/300 [==============================] - 3s 11ms/step - loss: 6.1451e-07 - accuracy: 0.4512\n",
      "Epoch 22/25\n",
      "300/300 [==============================] - 4s 15ms/step - loss: 4.5283e-07 - accuracy: 0.4550\n",
      "Epoch 23/25\n",
      "300/300 [==============================] - 4s 13ms/step - loss: 3.8292e-07 - accuracy: 0.4575\n",
      "Epoch 24/25\n",
      "300/300 [==============================] - 3s 11ms/step - loss: 2.8603e-07 - accuracy: 0.4612\n",
      "Epoch 25/25\n",
      "300/300 [==============================] - 4s 12ms/step - loss: 2.3935e-07 - accuracy: 0.4642\n"
     ]
    }
   ],
   "source": [
    "#Our best model was model number 4 (model4) as seen bellow.\n",
    "\n",
    "#Instantiate a Sequential model\n",
    "model4 = Sequential()\n",
    "#Add an input Dense layer. You'll need to specify a input_shape = (11275,) \n",
    "model4.add(Dense(units=64, activation=\"relu\", input_shape=(11275,)))\n",
    "#Add Dense hidden layers.\n",
    "model4.add(Dense(units=128, activation=\"relu\"))\n",
    "model4.add(Dense(units=256, activation=\"relu\"))\n",
    "model4.add(Dropout(0.025))\n",
    "model4.add(Dense(units=16, activation=\"relu\"))\n",
    "#Add a final Dense output layer. This layer must have exactly 1 unit because we are doing a binary prediction task.\n",
    "model4.add(Dense(1, activation=\"sigmoid\"))\n",
    "#Compile the Sequential model\n",
    "model4.compile(optimizer=\"adam\", loss= \"binary_crossentropy\", metrics=[\"Accuracy\"])\n",
    "#Fit the Sequential model on the preprocessed training data (X_train_transformed_scaled) \n",
    "model_data = model4.fit(X_train_transformed_scaled, y_train, batch_size=50, epochs=25)"
   ]
  },
  {
   "cell_type": "code",
   "execution_count": 51,
   "metadata": {},
   "outputs": [
    {
     "name": "stdout",
     "output_type": "stream",
     "text": [
      "469/469 [==============================] - 2s 5ms/step - loss: 2.0787e-07 - accuracy: 0.4661\n"
     ]
    },
    {
     "data": {
      "text/plain": [
       "[2.0786725940524775e-07, 0.4660666584968567]"
      ]
     },
     "execution_count": 51,
     "metadata": {},
     "output_type": "execute_result"
    }
   ],
   "source": [
    "#Print the loss and accuracy for the training set \n",
    "results_train = model4.evaluate(X_train_transformed_scaled, y_train)\n",
    "results_train"
   ]
  },
  {
   "cell_type": "code",
   "execution_count": 52,
   "metadata": {},
   "outputs": [
    {
     "name": "stdout",
     "output_type": "stream",
     "text": [
      "157/157 [==============================] - 1s 5ms/step - loss: 0.8253 - accuracy: 0.3216\n"
     ]
    },
    {
     "data": {
      "text/plain": [
       "[0.825266420841217, 0.3215999901294708]"
      ]
     },
     "execution_count": 52,
     "metadata": {},
     "output_type": "execute_result"
    }
   ],
   "source": [
    "#Print the loss and accuracy for the test set \n",
    "results_test = model4.evaluate(X_test_transformed_scaled, y_test)\n",
    "results_test"
   ]
  },
  {
   "cell_type": "code",
   "execution_count": 54,
   "metadata": {},
   "outputs": [
    {
     "data": {
      "text/plain": [
       "dict_keys(['loss', 'accuracy'])"
      ]
     },
     "execution_count": 54,
     "metadata": {},
     "output_type": "execute_result"
    }
   ],
   "source": [
    "model_dict = model_data.history\n",
    "model_dict.keys()"
   ]
  },
  {
   "cell_type": "markdown",
   "metadata": {},
   "source": [
    "5) Technical Communication\n",
    "\n",
    "Write a paragraph explaining whether Northwind Trading Company should switch to using your new neural network model, or continue to use the Random Forest Classifier. Beyond a simple comparison of performance, try to take into consideration additional considerations such as:\n",
    "\n",
    "Computational complexity/resource use\n",
    "\n",
    "Anticipated performance on future datasets (how might the data change over time?)\n",
    "\n",
    "Types of mistakes made by the two kinds of models\n",
    "\n",
    "\n",
    "You can make guesses or inferences about these considerations.\n",
    "Include at least one visualization comparing the two types of models. Possible points of comparison could include ROC curves, colorized confusion matrices, or time needed to train."
   ]
  },
  {
   "cell_type": "code",
   "execution_count": 61,
   "metadata": {},
   "outputs": [
    {
     "data": {
      "image/png": "[encoded data removed]",
      "text/plain": [
       "<Figure size 432x288 with 1 Axes>"
      ]
     },
     "metadata": {
      "needs_background": "light"
     },
     "output_type": "display_data"
    }
   ],
   "source": [
    "acc_values = model_dict['accuracy'] \n",
    "epochs = range(1, len(model_dict['loss']) + 1)\n",
    "\n",
    "plt.plot(epochs, acc_values, 'r', label='Training Accuracy')\n",
    "plt.title('Training Accuracy')\n",
    "plt.xlabel('Epochs')\n",
    "plt.ylabel('Accuracy')\n",
    "plt.legend()\n",
    "plt.show()"
   ]
  },
  {
   "cell_type": "markdown",
   "metadata": {},
   "source": [
    "From what I have been able to work on I would recommend to keep using the Random Forest Model for now. While it is overfitting we can adjust some hyperparameters to adjust this.\n",
    "\n",
    "However I would continue to invest in a Machine Learning model. While our final model scored right under random chance, our model was still improving. We only spent an hour looking at different parameters, if given more time we could improve our score greatly. We can see proof of this in our Training Accuracy graph above. We can see that our best model was still improving and had not flattened out yet. Given more time I would also like to see what was causing the spike at the 6 epoch level. \n",
    "\n",
    "I am confident that given more time, we could build a model that does not overfit like the random forest and therefore performs better on different datasets that have a similar theme of recommending a product or not."
   ]
  },
  {
   "cell_type": "code",
   "execution_count": null,
   "metadata": {},
   "outputs": [],
   "source": []
  }
 ],
 "metadata": {
  "kernelspec": {
   "display_name": "learn-env",
   "language": "python",
   "name": "learn-env"
  },
  "language_info": {
   "codemirror_mode": {
    "name": "ipython",
    "version": 3
   },
   "file_extension": ".py",
   "mimetype": "text/x-python",
   "name": "python",
   "nbconvert_exporter": "python",
   "pygments_lexer": "ipython3",
   "version": "3.8.5"
  }
 },
 "nbformat": 4,
 "nbformat_minor": 4
}
